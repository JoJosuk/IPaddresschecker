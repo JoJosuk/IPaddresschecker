{
 "cells": [
  {
   "cell_type": "code",
   "execution_count": 31,
   "metadata": {},
   "outputs": [],
   "source": [
    "import socket"
   ]
  },
  {
   "cell_type": "code",
   "execution_count": 32,
   "metadata": {},
   "outputs": [],
   "source": [
    "def isvalid(ip):\n",
    "    try:\n",
    "        socket.inet_aton(ip)\n",
    "        return True\n",
    "    except socket.error:\n",
    "        return False"
   ]
  },
  {
   "cell_type": "code",
   "execution_count": 33,
   "metadata": {},
   "outputs": [],
   "source": [
    "correctips=[]\n",
    "incorrectips=[]"
   ]
  },
  {
   "cell_type": "code",
   "execution_count": 34,
   "metadata": {},
   "outputs": [
    {
     "name": "stdout",
     "output_type": "stream",
     "text": [
      "Correct IPs are:  ['142.250.183.238', '34.3.54.5']\n",
      "Incorrect IPs are:  []\n"
     ]
    }
   ],
   "source": [
    "f=open('ipaddress.txt','r')\n",
    "for i in f.readlines():\n",
    "    if i=='Correct ips are: \\n' or i=='Incorrect ips are: \\n':\n",
    "        continue\n",
    "    if isvalid(i.strip()):\n",
    "        correctips.append(i.strip())\n",
    "    else:\n",
    "        incorrectips.append(i.strip())\n",
    "print(\"Correct IPs are: \",correctips)\n",
    "print(\"Incorrect IPs are: \",incorrectips)"
   ]
  },
  {
   "cell_type": "code",
   "execution_count": 35,
   "metadata": {},
   "outputs": [],
   "source": [
    "f=open('ipaddress.txt','w')\n",
    "f.write('Correct ips are: \\n')\n",
    "for i in correctips:\n",
    "    f.write(i+\"\\n\")"
   ]
  },
  {
   "cell_type": "code",
   "execution_count": null,
   "metadata": {},
   "outputs": [],
   "source": []
  }
 ],
 "metadata": {
  "kernelspec": {
   "display_name": "Python 3",
   "language": "python",
   "name": "python3"
  },
  "language_info": {
   "codemirror_mode": {
    "name": "ipython",
    "version": 3
   },
   "file_extension": ".py",
   "mimetype": "text/x-python",
   "name": "python",
   "nbconvert_exporter": "python",
   "pygments_lexer": "ipython3",
   "version": "3.11.1"
  },
  "orig_nbformat": 4
 },
 "nbformat": 4,
 "nbformat_minor": 2
}
