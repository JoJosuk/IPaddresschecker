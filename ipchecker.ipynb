{
 "cells": [
  {
   "attachments": {},
   "cell_type": "markdown",
   "metadata": {},
   "source": [
    "## Python Program to Validate IP Addresses and Correct Incorrect IPs\n",
    "\n",
    "This Python program reads a list of IP addresses from a text file named `ipaddress.txt`, validates them to check if they are correct IP addresses, and then writes the correct IP addresses to the same file. If there are any incorrect IP addresses, the program asks the user to enter the website for that IP address, corrects the IP address and writes it to the file.\n",
    "\n",
    "## Steps\n",
    "\n",
    "The program performs the following steps:\n",
    "\n",
    "- It imports the `socket` module to work with IP addresses.\n",
    "\n",
    "- Defines a function `isvalid(ip)` that takes an IP address as input and checks if it is a valid IP address. The `socket.inet_aton()` function is used to validate the IP address.\n",
    "\n",
    "- Creates a list `avoidstrings` that contains some strings which should not be written to the output file.\n",
    "\n",
    "- Initializes two empty lists `correctips` and `incorrectips`.\n",
    "\n",
    "- Opens the input file `ipaddress.txt` and reads each IP address. If the IP address is in the `avoidstrings` list, it is skipped. If the IP address is valid, it is added to the `correctips` list, otherwise, it is added to the `incorrectips` list.\n",
    "\n",
    "- Writes the correct IP addresses to the file `ipaddress.txt`.\n",
    "\n",
    "- For each incorrect IP address, the program prompts the user to enter the website for that IP address. It corrects the IP address using `socket.gethostbyname()` function, writes the corrected IP address to the file `ipaddress.txt`.\n",
    "\n",
    "This program helps in validating IP addresses and correcting the incorrect ones.\n"
   ]
  },
  {
   "attachments": {},
   "cell_type": "markdown",
   "metadata": {},
   "source": [
    "### import socket\n",
    "- This imports the `socket` module which provides low-level networking interfaces. \n",
    "- It is used later in the program to check if an IP address is valid.\n",
    "\n",
    "\n",
    "\n",
    "\n"
   ]
  },
  {
   "cell_type": "code",
   "execution_count": 59,
   "metadata": {},
   "outputs": [],
   "source": [
    "import socket\n",
    "import tkinter as tk"
   ]
  },
  {
   "attachments": {},
   "cell_type": "markdown",
   "metadata": {},
   "source": [
    "#### Function to Check if IP Address is Valid\n",
    "\n",
    "The `isvalid()` function takes an IP address as input and returns `True` if the IP address is valid, and `False` otherwise.\n",
    "\n",
    "- `socket.inet_aton(ip)` converts the IP address string to an IP address in packed 32-bit binary format.\n",
    "- If the IP address is invalid, a `socket.error` exception is raised, which is caught by the `except` block and returns `False`.\n",
    "\n",
    "```python\n",
    "def isvalid(ip):\n",
    "    try:\n",
    "        socket.inet_aton(ip)\n",
    "        return True\n",
    "    except socket.error:\n",
    "        return False\n"
   ]
  },
  {
   "cell_type": "code",
   "execution_count": 60,
   "metadata": {},
   "outputs": [],
   "source": [
    "def isvalid(ip):\n",
    "    try:\n",
    "        socket.inet_aton(ip)\n",
    "        return True\n",
    "    except socket.error:\n",
    "        return False"
   ]
  },
  {
   "attachments": {},
   "cell_type": "markdown",
   "metadata": {},
   "source": [
    "### Initializing the avoidstrings list\n",
    "\n",
    "Creating a list `avoidstrings` to store the strings `Correct ips are:`, `Incorrect ips are:` and `Incorrect ips which corrected are:` which will be avoided while processing the input file. \n"
   ]
  },
  {
   "cell_type": "code",
   "execution_count": 61,
   "metadata": {},
   "outputs": [],
   "source": [
    "avoidstrings=['Correct ips are: \\n','Incorrect ips are: \\n','Incorrect ips which corrected are: \\n','\\n','']"
   ]
  },
  {
   "attachments": {},
   "cell_type": "markdown",
   "metadata": {},
   "source": [
    "#### Initializing the lists for storing the correct and incorrect IPs\n",
    "\n",
    "Creating two empty lists `correctips` and `incorrectips` to store the valid and invalid IPs respectively. \n"
   ]
  },
  {
   "cell_type": "code",
   "execution_count": 62,
   "metadata": {},
   "outputs": [],
   "source": [
    "correctips=[]\n",
    "incorrectips=[]"
   ]
  },
  {
   "cell_type": "code",
   "execution_count": 63,
   "metadata": {},
   "outputs": [],
   "source": [
    "iplist=[]"
   ]
  },
  {
   "cell_type": "code",
   "execution_count": 73,
   "metadata": {},
   "outputs": [],
   "source": [
    "def submitvalues(event=None):\n",
    "    \n",
    "    iplist.append(entrystr.get())\n",
    "    entrystr.delete(0,tk.END)\n",
    " \n",
    "   "
   ]
  },
  {
   "cell_type": "code",
   "execution_count": 74,
   "metadata": {},
   "outputs": [
    {
     "name": "stdout",
     "output_type": "stream",
     "text": [
      "['142.250.183.238', 'hey', 'hey', 'siva']\n"
     ]
    }
   ],
   "source": [
    "m=tk.Tk()\n",
    "\n",
    "m.title('IP Checker')\n",
    "m.geometry(\"800x100\")\n",
    "\n",
    "entrystr= tk.Entry(m, width=100, borderwidth=5)\n",
    "entrystr.pack()\n",
    " \n",
    "stopper = tk.Button(m, text='Stop', width=25, command=m.destroy)\n",
    "submit=tk.Button(m,text='Submit',width=25,command=submitvalues)\n",
    "m.bind('<Return>',submitvalues)\n",
    "submit.pack()\n",
    "stopper.pack()\n",
    "m.mainloop()\n",
    "print(iplist)\n"
   ]
  },
  {
   "attachments": {},
   "cell_type": "markdown",
   "metadata": {},
   "source": [
    "#### Reading input file and processing the IPs\n",
    "\n",
    "Reading the input file `ipaddress.txt` and processing each line. If the line is a string present in `avoidstrings`, it is skipped. If the line is a valid IP address, it is added to the `correctips` list. Otherwise, it is added to the `incorrectips` list. At the end, printing the `correctips` and `incorrectips` lists. \n"
   ]
  },
  {
   "cell_type": "code",
   "execution_count": 66,
   "metadata": {},
   "outputs": [
    {
     "name": "stdout",
     "output_type": "stream",
     "text": [
      "Correct IPs are:  ['142.250.183.238']\n",
      "Incorrect IPs are:  ['hey']\n"
     ]
    }
   ],
   "source": [
    "# f=open('ipaddress.txt','r')\n",
    "for i in iplist:\n",
    "    if i in avoidstrings:\n",
    "        continue\n",
    "    if isvalid(i.strip()):\n",
    "        correctips.append(i.strip())\n",
    "    else:\n",
    "        incorrectips.append(i.strip())\n",
    "print(\"Correct IPs are: \",correctips)\n",
    "print(\"Incorrect IPs are: \",incorrectips)"
   ]
  },
  {
   "attachments": {},
   "cell_type": "markdown",
   "metadata": {},
   "source": [
    "#### Writing the correct IPs to output file\n",
    "\n",
    "Opening the input file `ipaddress.txt` in write mode and writing the string `Correct ips are:` followed by each correct IP address in a new line. \n"
   ]
  },
  {
   "cell_type": "code",
   "execution_count": 67,
   "metadata": {},
   "outputs": [],
   "source": [
    "f=open('ipaddress.txt','w')\n",
    "f.write('Correct ips are: \\n')\n",
    "for i in correctips:\n",
    "    f.write(i+\"\\n\")"
   ]
  },
  {
   "attachments": {},
   "cell_type": "markdown",
   "metadata": {},
   "source": [
    "#### Correcting and writing the incorrect IPs to output file\n",
    "\n",
    "Appending the string `Incorrect ips which corrected are:` to the output file `ipaddress.txt` followed by the IP addresses that were incorrect but could be corrected by converting them to their respective website's IP address. For each incorrect IP, the user is prompted to enter the website address for that IP and the corrected IP is written to the output file. \n"
   ]
  },
  {
   "cell_type": "code",
   "execution_count": 68,
   "metadata": {},
   "outputs": [],
   "source": [
    "# f.write('Incorrect ips which corrected are: \\n')\n",
    "# for i in incorrectips:\n",
    "#     print('Enter the website for this ip you entered: ',i)\n",
    "#     print('eg: www.google.com')\n",
    "#     a=input()\n",
    "#     try:     \n",
    "#         correctedip=socket.gethostbyname(a)\n",
    "#     except:\n",
    "#         continue\n",
    "#     f.write(correctedip+\"\\n\")"
   ]
  }
 ],
 "metadata": {
  "kernelspec": {
   "display_name": "Python 3",
   "language": "python",
   "name": "python3"
  },
  "language_info": {
   "codemirror_mode": {
    "name": "ipython",
    "version": 3
   },
   "file_extension": ".py",
   "mimetype": "text/x-python",
   "name": "python",
   "nbconvert_exporter": "python",
   "pygments_lexer": "ipython3",
   "version": "3.11.1"
  },
  "orig_nbformat": 4
 },
 "nbformat": 4,
 "nbformat_minor": 2
}
