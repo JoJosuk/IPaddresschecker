{
 "cells": [
  {
   "attachments": {},
   "cell_type": "markdown",
   "metadata": {},
   "source": [
    "## Python Program to Validate IP Addresses and Correct Incorrect IPs\n",
    "\n",
    "This Python program reads a list of IP addresses from a text file named `ipaddress.txt`, validates them to check if they are correct IP addresses, and then writes the correct IP addresses to the same file. If there are any incorrect IP addresses, the program asks the user to enter the website for that IP address, corrects the IP address and writes it to the file.\n",
    "\n",
    "## Steps\n",
    "\n",
    "The program performs the following steps:\n",
    "\n",
    "- It imports the `socket` module to work with IP addresses.\n",
    "\n",
    "- Defines a function `isvalid(ip)` that takes an IP address as input and checks if it is a valid IP address. The `socket.inet_aton()` function is used to validate the IP address.\n",
    "\n",
    "- Creates a list `avoidstrings` that contains some strings which should not be written to the output file.\n",
    "\n",
    "- Initializes two empty lists `correctips` and `incorrectips`.\n",
    "\n",
    "- Opens the input file `ipaddress.txt` and reads each IP address. If the IP address is in the `avoidstrings` list, it is skipped. If the IP address is valid, it is added to the `correctips` list, otherwise, it is added to the `incorrectips` list.\n",
    "\n",
    "- Writes the correct IP addresses to the file `ipaddress.txt`.\n",
    "\n",
    "- For each incorrect IP address, the program prompts the user to enter the website for that IP address. It corrects the IP address using `socket.gethostbyname()` function, writes the corrected IP address to the file `ipaddress.txt`.\n",
    "\n",
    "This program helps in validating IP addresses and correcting the incorrect ones.\n"
   ]
  },
  {
   "cell_type": "code",
   "execution_count": null,
   "metadata": {},
   "outputs": [],
   "source": []
  },
  {
   "attachments": {},
   "cell_type": "markdown",
   "metadata": {},
   "source": [
    "### import socket\n",
    "- This imports the `socket` module which provides low-level networking interfaces. \n",
    "- It is used later in the program to check if an IP address is valid.\n",
    "\n",
    "\n",
    "\n",
    "\n"
   ]
  },
  {
   "cell_type": "code",
   "execution_count": 102,
   "metadata": {},
   "outputs": [],
   "source": [
    "import socket\n",
    "import tkinter as tk\n",
    "import time"
   ]
  },
  {
   "attachments": {},
   "cell_type": "markdown",
   "metadata": {},
   "source": [
    "#### Function to Check if IP Address is Valid\n",
    "\n",
    "The `isvalid()` function takes an IP address as input and returns `True` if the IP address is valid, and `False` otherwise.\n",
    "\n",
    "- `socket.inet_aton(ip)` converts the IP address string to an IP address in packed 32-bit binary format.\n",
    "- If the IP address is invalid, a `socket.error` exception is raised, which is caught by the `except` block and returns `False`.\n",
    "\n",
    "```python\n",
    "def isvalid(ip):\n",
    "    try:\n",
    "        socket.inet_aton(ip)\n",
    "        return True\n",
    "    except socket.error:\n",
    "        return False\n"
   ]
  },
  {
   "cell_type": "code",
   "execution_count": 103,
   "metadata": {},
   "outputs": [],
   "source": [
    "def isvalid(ip):\n",
    "    try:\n",
    "        socket.inet_aton(ip)\n",
    "        return True\n",
    "    except socket.error:\n",
    "        return False"
   ]
  },
  {
   "attachments": {},
   "cell_type": "markdown",
   "metadata": {},
   "source": [
    "### Initializing the avoidstrings list\n",
    "\n",
    "Creating a list `avoidstrings` to store the strings `Correct ips are:`, `Incorrect ips are:` and `Incorrect ips which corrected are:` which will be avoided while processing the input file. \n"
   ]
  },
  {
   "cell_type": "code",
   "execution_count": 104,
   "metadata": {},
   "outputs": [],
   "source": [
    "avoidstrings=['Correct ips are: \\n','Incorrect ips are: \\n','Incorrect ips which corrected are: \\n','\\n','']"
   ]
  },
  {
   "attachments": {},
   "cell_type": "markdown",
   "metadata": {},
   "source": [
    "#### Initializing the lists for storing the correct and incorrect IPs\n",
    "\n",
    "Creating two empty lists `correctips` and `incorrectips` to store the valid and invalid IPs respectively. \n"
   ]
  },
  {
   "cell_type": "code",
   "execution_count": 105,
   "metadata": {},
   "outputs": [],
   "source": [
    "correctips=[]\n",
    "incorrectips=[]"
   ]
  },
  {
   "cell_type": "code",
   "execution_count": 144,
   "metadata": {},
   "outputs": [],
   "source": [
    "iplist1=[]\n",
    "iplist2=[]"
   ]
  },
  {
   "cell_type": "code",
   "execution_count": 145,
   "metadata": {},
   "outputs": [],
   "source": [
    "def submitvalues(Event=None):   \n",
    "    ip1 = entrystr.get()\n",
    "    ip2 = entrystr2.get()\n",
    "   \n",
    "    if ip1!='' and ip1 not in iplist1:\n",
    "        iplist1.append(ip1)\n",
    "    if ip2!='' and ip2 not in iplist2:\n",
    "        iplist2.append(ip2)\n",
    "    for ip in iplist1:\n",
    "        try:\n",
    "            socket.inet_aton(ip)\n",
    "            label3.config(text=\"IP1 exists\", bg=\"green\")\n",
    "        except socket.error:\n",
    "            label3.config(text=\"IP1 does not exist,clearing latest\", bg=\"red\")\n",
    "            iplist1.clear()\n",
    "            break;\n",
    "    for ip in iplist2:\n",
    "        try:\n",
    "            socket.inet_aton(ip)\n",
    "            label4.config(text=\"IP2 exists\", bg=\"green\")\n",
    "        except socket.error:\n",
    "            label4.config(text=\"IP2 does not exists,clearing latest \", bg=\"red\")\n",
    "            iplist2.clear()\n",
    "            break;\n",
    "    print(iplist1,iplist2)        \n",
    "    m.after(10000, submitvalues)\n",
    "   "
   ]
  },
  {
   "cell_type": "code",
   "execution_count": null,
   "metadata": {},
   "outputs": [],
   "source": []
  },
  {
   "cell_type": "code",
   "execution_count": 147,
   "metadata": {},
   "outputs": [
    {
     "name": "stdout",
     "output_type": "stream",
     "text": [
      "['123.45.55.34'] ['23.55']\n",
      "['123.45.55.34'] []\n",
      "['123.45.55.34'] []\n",
      "['123.45.55.34'] ['34.33']\n",
      "['123.45.55.34'] ['34.33']\n",
      "['123.45.55.34'] ['34.33']\n",
      "['123.45.55.34'] []\n",
      "['123.45.55.34'] []\n",
      "['123.45.55.34'] []\n",
      "['123.45.55.34'] []\n",
      "['123.45.55.34'] []\n",
      "['123.45.55.34'] []\n",
      "['123.45.55.34'] []\n",
      "['123.45.55.34'] ['343']\n",
      "['123.45.55.34'] ['343']\n"
     ]
    }
   ],
   "source": [
    "m=tk.Tk()\n",
    "\n",
    "m.title('IP Checker')\n",
    "m.geometry(\"800x800\")\n",
    "\n",
    "spacer1 = tk.Label(m, text=\"\")\n",
    "spacer1.grid(row=4, column=0)\n",
    "spacer1.pack()\n",
    "label = tk.Label(m, text=\"place1\", width=20, bg=\"white\")\n",
    "label.pack()\n",
    "entrystr= tk.Entry(m, width=100, borderwidth=5)\n",
    "entrystr.pack()\n",
    "label2= tk.Label(m, text=\"place2\", width=20, bg=\"white\")\n",
    "label2.pack()\n",
    "entrystr2= tk.Entry(m, width=100, borderwidth=5)\n",
    "entrystr2.pack()\n",
    "label3 = tk.Label(m, text=\"\", width=30,height=10, bg=\"white\")\n",
    "label3.pack()\n",
    "label4 = tk.Label(m, text=\"\", width=30,height=10, bg=\"white\")\n",
    "label4.pack()\n",
    "stopper = tk.Button(m, text='Stop', width=25, command=m.destroy)\n",
    "submit=tk.Button(m,text='Submit',width=25,command=submitvalues)\n",
    "m.bind('<Return>',submitvalues)\n",
    "submit.pack()\n",
    "stopper.pack()\n",
    "m.mainloop()\n",
    "\n",
    "\n",
    "\n"
   ]
  },
  {
   "attachments": {},
   "cell_type": "markdown",
   "metadata": {},
   "source": [
    "#### Reading input file and processing the IPs\n",
    "\n",
    "Reading the input file `ipaddress.txt` and processing each line. If the line is a string present in `avoidstrings`, it is skipped. If the line is a valid IP address, it is added to the `correctips` list. Otherwise, it is added to the `incorrectips` list. At the end, printing the `correctips` and `incorrectips` lists. \n"
   ]
  },
  {
   "cell_type": "code",
   "execution_count": 109,
   "metadata": {},
   "outputs": [
    {
     "name": "stdout",
     "output_type": "stream",
     "text": [
      "Correct IPs are:  []\n",
      "Incorrect IPs are:  []\n"
     ]
    }
   ],
   "source": [
    "# f=open('ipaddress.txt','r')\n",
    "for i in iplist:\n",
    "    if i in avoidstrings:\n",
    "        continue\n",
    "    if isvalid(i.strip()):\n",
    "        correctips.append(i.strip())\n",
    "    else:\n",
    "        incorrectips.append(i.strip())\n",
    "print(\"Correct IPs are: \",correctips)\n",
    "print(\"Incorrect IPs are: \",incorrectips)"
   ]
  },
  {
   "attachments": {},
   "cell_type": "markdown",
   "metadata": {},
   "source": [
    "#### Writing the correct IPs to output file\n",
    "\n",
    "Opening the input file `ipaddress.txt` in write mode and writing the string `Correct ips are:` followed by each correct IP address in a new line. \n"
   ]
  },
  {
   "cell_type": "code",
   "execution_count": 110,
   "metadata": {},
   "outputs": [],
   "source": [
    "f=open('ipaddress.txt','w')\n",
    "f.write('Correct ips are: \\n')\n",
    "for i in correctips:\n",
    "    f.write(i+\"\\n\")"
   ]
  },
  {
   "attachments": {},
   "cell_type": "markdown",
   "metadata": {},
   "source": [
    "#### Correcting and writing the incorrect IPs to output file\n",
    "\n",
    "Appending the string `Incorrect ips which corrected are:` to the output file `ipaddress.txt` followed by the IP addresses that were incorrect but could be corrected by converting them to their respective website's IP address. For each incorrect IP, the user is prompted to enter the website address for that IP and the corrected IP is written to the output file. \n"
   ]
  },
  {
   "cell_type": "code",
   "execution_count": 111,
   "metadata": {},
   "outputs": [],
   "source": [
    "# Import module\n",
    "from tkinter import *\n",
    "\n",
    "# Create object\n",
    "splash_root = Tk()\n",
    "\n",
    "# Adjust size\n",
    "splash_root.geometry(\"200x200\")\n",
    "\n",
    "# Set Label\n",
    "splash_label = Label(splash_root, text=\"Splash Screen\", font=18)\n",
    "splash_label.pack()\n",
    "\n",
    "# main window function\n",
    "\n",
    "\n",
    "def main():\n",
    "\t# Create object\n",
    "\troot = Tk()\n",
    "\n",
    "\t# Adjust size\n",
    "\troot.geometry(\"400x400\")\n",
    "\n",
    "\n",
    "# Call main function\n",
    "main()\n",
    "\n",
    "# Execute tkinter\n",
    "mainloop()\n"
   ]
  }
 ],
 "metadata": {
  "kernelspec": {
   "display_name": "Python 3",
   "language": "python",
   "name": "python3"
  },
  "language_info": {
   "codemirror_mode": {
    "name": "ipython",
    "version": 3
   },
   "file_extension": ".py",
   "mimetype": "text/x-python",
   "name": "python",
   "nbconvert_exporter": "python",
   "pygments_lexer": "ipython3",
   "version": "3.11.1"
  },
  "orig_nbformat": 4
 },
 "nbformat": 4,
 "nbformat_minor": 2
}
